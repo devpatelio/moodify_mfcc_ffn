{
 "cells": [
  {
   "cell_type": "code",
   "execution_count": null,
   "metadata": {},
   "outputs": [],
   "source": [
    "# !kaggle datasets download -d ejlok1/toronto-emotional-speech-set-tess\n",
    "# !kaggle datasets download -d ejlok1/cremad"
   ]
  },
  {
   "cell_type": "code",
   "execution_count": null,
   "metadata": {},
   "outputs": [],
   "source": [
    "# !kaggle datasets download -d ejlok1/surrey-audiovisual-expressed-emotion-savee\n",
    "# !kaggle datasets download -d uwrfkaggler/ravdess-emotional-speech-audio"
   ]
  },
  {
   "cell_type": "code",
   "execution_count": 1,
   "metadata": {},
   "outputs": [
    {
     "name": "stderr",
     "output_type": "stream",
     "text": [
      "/Users/devpatelio/miniconda3/lib/python3.8/site-packages/torchaudio/backend/utils.py:53: UserWarning: \"sox\" backend is being deprecated. The default backend will be changed to \"sox_io\" backend in 0.8.0 and \"sox\" backend will be removed in 0.9.0. Please migrate to \"sox_io\" backend. Please refer to https://github.com/pytorch/audio/issues/903 for the detail.\n",
      "  warnings.warn(\n"
     ]
    }
   ],
   "source": [
    "import pandas as pd\n",
    "import torch\n",
    "import numpy as np\n",
    "import torchaudio\n",
    "import requests\n",
    "import matplotlib.pyplot as plt\n",
    "import librosa\n",
    "import librosa.display\n",
    "import IPython.display as ipd  # To play sound in the notebook\n",
    "import os\n",
    "\n",
    "\n",
    "SAVEE = '/Users/devpatelio/Downloads/Coding/Python/pyTorch/audio_mood/ALL'\n",
    "RAV =  '/Users/devpatelio/Downloads/Coding/Python/pyTorch/audio_mood/ravdess-emotional-speech-audio/audio_speech_actors_01-24'\n",
    "TESS = '/Users/devpatelio/Downloads/Coding/Python/pyTorch/audio_mood/TESS Toronto emotional speech set data'\n",
    "CREMA = '/Users/devpatelio/Downloads/Coding/Python/pyTorch/audio_mood/AudioWAV'\n"
   ]
  },
  {
   "cell_type": "code",
   "execution_count": 2,
   "metadata": {},
   "outputs": [
    {
     "data": {
      "text/plain": [
       "male_neutral     120\n",
       "male_fear         60\n",
       "male_angry        60\n",
       "male_sad          60\n",
       "male_happy        60\n",
       "male_surprise     60\n",
       "male_disgust      60\n",
       "Name: labels, dtype: int64"
      ]
     },
     "execution_count": 2,
     "metadata": {},
     "output_type": "execute_result"
    }
   ],
   "source": [
    "dirlist_SAVEE = os.listdir(SAVEE)\n",
    "emotion_SAVEE = []\n",
    "path_SAVEE = []\n",
    "\n",
    "def PrintThree(filename):\n",
    "    return filename[-8:-6]\n",
    "\n",
    "\n",
    "for i in dirlist_SAVEE:\n",
    "    if PrintThree(i)=='_a':\n",
    "        emotion_SAVEE.append('male_angry')\n",
    "    elif PrintThree(i)=='_d':\n",
    "        emotion_SAVEE.append('male_disgust')\n",
    "    elif PrintThree(i)=='_f':\n",
    "        emotion_SAVEE.append('male_fear')\n",
    "    elif PrintThree(i)=='_h':\n",
    "        emotion_SAVEE.append('male_happy')\n",
    "    elif PrintThree(i)=='sa':\n",
    "        emotion_SAVEE.append('male_sad')\n",
    "    elif PrintThree(i)=='su':\n",
    "        emotion_SAVEE.append('male_surprise')\n",
    "    elif PrintThree(i)=='_n':\n",
    "        emotion_SAVEE.append('male_neutral') \n",
    "    path_SAVEE.append(SAVEE + '/' + i)\n",
    "\n",
    "SAVEE_df = pd.DataFrame(emotion_SAVEE, columns=['labels'])\n",
    "SAVEE_df['source'] = 'SAVEE'\n",
    "SAVEE_df = pd.concat([SAVEE_df, pd.DataFrame(path_SAVEE, columns=['path'])], axis=1)\n",
    "SAVEE_df.labels.value_counts()"
   ]
  },
  {
   "cell_type": "code",
   "execution_count": 3,
   "metadata": {},
   "outputs": [
    {
     "data": {
      "text/plain": [
       "female_disgust      96\n",
       "male_surprised      96\n",
       "male_happy          96\n",
       "male_disgust        96\n",
       "female_sad          96\n",
       "male_calm           96\n",
       "male_angry          96\n",
       "female_fearful      96\n",
       "female_calm         96\n",
       "female_angry        96\n",
       "female_surprised    96\n",
       "male_sad            96\n",
       "male_fearful        96\n",
       "female_happy        96\n",
       "female_neutral      48\n",
       "male_neutral        48\n",
       "Name: labels, dtype: int64"
      ]
     },
     "execution_count": 3,
     "metadata": {},
     "output_type": "execute_result"
    }
   ],
   "source": [
    "dirlist_RAV = os.listdir(RAV)\n",
    "actor_range = list(range(1, 25))\n",
    "# for i in actor_range:\n",
    "#     actor_range[i] = str(i+1)\n",
    "\n",
    "# for i in actor_range[0:9]:\n",
    "#     actor_range[i] = str(i+1).zfill(2)\n",
    "# actor_range[0] = str(actor_range[0]).zfill(2)\n",
    "# str_actor_range = [str(item) for item in actor_range]\n",
    "# print(str_actor_range)\n",
    "\n",
    "gender_RAV = []\n",
    "emotion_RAV = []\n",
    "path_RAV = []\n",
    "\n",
    "for subdir in dirlist_RAV:\n",
    "    for file in os.listdir(RAV + '/' + subdir):\n",
    "        if str(file[6:8]) == '01':\n",
    "            if int(file[18:20])%2==0:\n",
    "                temp = 'female'\n",
    "            else: \n",
    "                temp = 'male'\n",
    "            gender_RAV.append(temp)\n",
    "            emotion_RAV.append(temp+'_neutral')\n",
    "        elif str(file[6:8]) == '02':\n",
    "            if int(file[18:20])%2==0:\n",
    "                temp = 'female'\n",
    "            else: \n",
    "                temp = 'male'\n",
    "            gender_RAV.append(temp)\n",
    "            emotion_RAV.append(temp+'_calm')\n",
    "        elif str(file[6:8]) == '03':\n",
    "            if int(file[18:20])%2==0:\n",
    "                temp = 'female'\n",
    "            else: \n",
    "                temp = 'male'\n",
    "            gender_RAV.append(temp)\n",
    "            emotion_RAV.append(temp+'_happy')\n",
    "        elif str(file[6:8]) == '04':\n",
    "            if int(file[18:20])%2==0:\n",
    "                temp = 'female'\n",
    "            else: \n",
    "                temp = 'male'\n",
    "            gender_RAV.append(temp)\n",
    "            emotion_RAV.append(temp+'_sad')\n",
    "        elif str(file[6:8]) == '05':\n",
    "            if int(file[18:20])%2==0:\n",
    "                temp = 'female'\n",
    "            else: \n",
    "                temp = 'male'\n",
    "            gender_RAV.append(temp)\n",
    "            emotion_RAV.append(temp+'_angry')\n",
    "        elif str(file[6:8]) == '06':\n",
    "            if int(file[18:20])%2==0:\n",
    "                temp = 'female'\n",
    "            else: \n",
    "                temp = 'male'\n",
    "            gender_RAV.append(temp)\n",
    "            emotion_RAV.append(temp+'_fearful')\n",
    "        elif str(file[6:8]) == '07':\n",
    "            if int(file[18:20])%2==0:\n",
    "                temp = 'female'\n",
    "            else: \n",
    "                temp = 'male'\n",
    "            gender_RAV.append(temp)\n",
    "            emotion_RAV.append(temp+'_disgust')\n",
    "        elif str(file[6:8]) == '08':\n",
    "            if int(file[18:20])%2==0:\n",
    "                temp = 'female'\n",
    "            else: \n",
    "                temp = 'male'\n",
    "            gender_RAV.append(temp)\n",
    "            emotion_RAV.append(temp+'_surprised')\n",
    "        path_RAV.append(RAV + '/' + subdir + '/' + file)\n",
    "        \n",
    "\n",
    "RAV_df = pd.DataFrame(emotion_RAV, columns=['labels'])\n",
    "RAV_df['source'] = 'RAVDESS'\n",
    "RAV_df = pd.concat([RAV_df, pd.DataFrame(path_RAV, columns=['path'])], axis=1)\n",
    "RAV_df.labels.value_counts()\n"
   ]
  },
  {
   "cell_type": "code",
   "execution_count": 4,
   "metadata": {},
   "outputs": [
    {
     "data": {
      "text/plain": [
       "female_neutral     400\n",
       "female_disgust     400\n",
       "female_surprise    400\n",
       "female_happy       400\n",
       "female_sad         400\n",
       "female_fear        400\n",
       "female_angry       400\n",
       "Name: labels, dtype: int64"
      ]
     },
     "execution_count": 4,
     "metadata": {},
     "output_type": "execute_result"
    }
   ],
   "source": [
    "dirlist_TESS = os.listdir(TESS)\n",
    "dirlist_TESS.sort()\n",
    "dirlist_TESS\n",
    "\n",
    "path_TESS = []\n",
    "emotion_TESS = []\n",
    "\n",
    "for i in dirlist_TESS:\n",
    "    for file in os.listdir(TESS + '/' + i):\n",
    "        if i == 'OAF_angry' or i=='YAF_angry':\n",
    "            emotion_TESS.append('female_angry')\n",
    "        elif i == 'OAF_disgust' or i == 'YAF_disgust':\n",
    "            emotion_TESS.append('female_disgust')\n",
    "        elif i == 'OAF_Fear' or i == 'YAF_fear':\n",
    "            emotion_TESS.append('female_fear')\n",
    "        elif i == 'OAF_happy' or i == 'YAF_happy':\n",
    "            emotion_TESS.append('female_happy')\n",
    "        elif i == 'OAF_neutral' or i == 'YAF_neutral':\n",
    "            emotion_TESS.append('female_neutral')                                \n",
    "        elif i == 'OAF_Pleasant_surprise' or i == 'YAF_pleasant_surprised':\n",
    "            emotion_TESS.append('female_surprise')               \n",
    "        elif i == 'OAF_Sad' or i == 'YAF_sad':\n",
    "            emotion_TESS.append('female_sad')\n",
    "        else:\n",
    "            emotion_TESS.append('Unknown')\n",
    "        path_TESS.append(TESS + '/' + i + '/' + file)\n",
    "\n",
    "TESS_df = pd.DataFrame(emotion_TESS, columns=['labels'])\n",
    "TESS_df['source'] = 'TESS'\n",
    "TESS_df = pd.concat([TESS_df, pd.DataFrame(path_TESS, columns=['path'])], axis=1)\n",
    "TESS_df.labels.value_counts()\n"
   ]
  },
  {
   "cell_type": "code",
   "execution_count": 5,
   "metadata": {},
   "outputs": [
    {
     "data": {
      "text/plain": [
       "male_fear         671\n",
       "male_disgust      671\n",
       "male_angry        671\n",
       "male_happy        671\n",
       "male_sad          671\n",
       "female_angry      600\n",
       "female_disgust    600\n",
       "female_happy      600\n",
       "female_sad        600\n",
       "female_fear       600\n",
       "male_neutral      575\n",
       "female_neutral    512\n",
       "Name: labels, dtype: int64"
      ]
     },
     "execution_count": 5,
     "metadata": {},
     "output_type": "execute_result"
    }
   ],
   "source": [
    "dirlist_CREMA = os.listdir(CREMA)\n",
    "dirlist_CREMA.sort()\n",
    "\n",
    "gender_CREMA = []\n",
    "emotion_CREMA = []\n",
    "path_CREMA = []\n",
    "female_CREMA = [1002,1003,1004,1006,1007,1008,1009,1010,1012,1013,1018,1020,1021,1024,1025,1028,1029,1030,1037,1043,1046,1047,1049,\n",
    "          1052,1053,1054,1055,1056,1058,1060,1061,1063,1072,1073,1074,1075,1076,1078,1079,1082,1084,1089,1091]\n",
    "\n",
    "for i in dirlist_CREMA:\n",
    "    if int(i[0:4]) in female_CREMA:\n",
    "        temp = 'female'\n",
    "    else: \n",
    "        temp = 'male'\n",
    "    gender_CREMA.append(temp)\n",
    "    \n",
    "    if i[9:12] == 'SAD' and temp == 'male':\n",
    "        emotion_CREMA.append('male_sad')\n",
    "    elif i[9:12] == 'SAD' and temp == 'female':\n",
    "        emotion_CREMA.append('female_sad')\n",
    "    elif i[9:12] == 'ANG' and temp == 'female':\n",
    "        emotion_CREMA.append('female_angry')\n",
    "    elif i[9:12] == 'ANG' and temp == 'male':\n",
    "        emotion_CREMA.append('male_angry')\n",
    "    elif i[9:12] == 'DIS' and temp == 'male':\n",
    "        emotion_CREMA.append('male_disgust')\n",
    "    elif i[9:12] == 'DIS' and temp == 'female':\n",
    "        emotion_CREMA.append('female_disgust')\n",
    "    elif i[9:12] == 'FEA' and temp == 'female':\n",
    "        emotion_CREMA.append('female_fear')\n",
    "    elif i[9:12] == 'FEA' and temp == 'male':\n",
    "        emotion_CREMA.append('male_fear')\n",
    "    elif i[9:12] == 'HAP' and temp == 'female':\n",
    "        emotion_CREMA.append('female_happy')\n",
    "    elif i[9:12] == 'HAP' and temp == 'male':\n",
    "        emotion_CREMA.append('male_happy')\n",
    "    elif i[9:12] == 'NEU' and temp == 'female':\n",
    "        emotion_CREMA.append('female_neutral')\n",
    "    elif i[9:12] == 'NEU' and temp == 'male':\n",
    "        emotion_CREMA.append('male_neutral')\n",
    "    path_CREMA.append(CREMA + '/' + i)\n",
    "    \n",
    "CREMA_df = pd.DataFrame(emotion_CREMA, columns=['labels'])\n",
    "CREMA_df['source'] = 'CREMA'\n",
    "CREMA_df = pd.concat([CREMA_df, pd.DataFrame(path_CREMA, columns=['path'])], axis=1)\n",
    "CREMA_df.labels.value_counts()"
   ]
  },
  {
   "cell_type": "code",
   "execution_count": 6,
   "metadata": {},
   "outputs": [
    {
     "name": "stdout",
     "output_type": "stream",
     "text": [
      "female_angry        1096\n",
      "female_disgust      1096\n",
      "female_happy        1096\n",
      "female_sad          1096\n",
      "female_fear         1000\n",
      "female_neutral       960\n",
      "male_sad             827\n",
      "male_angry           827\n",
      "male_happy           827\n",
      "male_disgust         827\n",
      "male_neutral         743\n",
      "male_fear            731\n",
      "female_surprise      400\n",
      "male_calm             96\n",
      "female_surprised      96\n",
      "female_fearful        96\n",
      "male_fearful          96\n",
      "male_surprised        96\n",
      "female_calm           96\n",
      "male_surprise         60\n",
      "Name: labels, dtype: int64\n"
     ]
    },
    {
     "data": {
      "text/plain": [
       "labels                                             male_sad\n",
       "source                                                SAVEE\n",
       "path      /Users/devpatelio/Downloads/Coding/Python/pyTo...\n",
       "Name: 1, dtype: object"
      ]
     },
     "execution_count": 6,
     "metadata": {},
     "output_type": "execute_result"
    }
   ],
   "source": [
    "dataset = pd.concat([SAVEE_df, RAV_df, TESS_df, CREMA_df], axis=0)\n",
    "print(dataset.labels.value_counts())\n",
    "dataset.to_csv(\"audio_stuff.csv\", index=False)\n",
    "\n",
    "dataset.iloc[1]"
   ]
  },
  {
   "cell_type": "code",
   "execution_count": 7,
   "metadata": {},
   "outputs": [
    {
     "name": "stdout",
     "output_type": "stream",
     "text": [
      "male_sad\n",
      "(75046,)\n",
      "(20, 147)\n",
      "female_sad\n",
      "(82403,)\n",
      "(20, 161)\n"
     ]
    },
    {
     "data": {
      "image/png": "[encoded data removed]",
      "text/plain": [
       "<Figure size 1440x1080 with 1 Axes>"
      ]
     },
     "metadata": {
      "needs_background": "light"
     },
     "output_type": "display_data"
    },
    {
     "data": {
      "image/png": "[encoded data removed]",
      "text/plain": [
       "<Figure size 1440x1080 with 2 Axes>"
      ]
     },
     "metadata": {
      "needs_background": "light"
     },
     "output_type": "display_data"
    },
    {
     "data": {
      "image/png": "[encoded data removed]",
      "text/plain": [
       "<Figure size 1440x1080 with 1 Axes>"
      ]
     },
     "metadata": {
      "needs_background": "light"
     },
     "output_type": "display_data"
    },
    {
     "data": {
      "image/png": "[encoded data removed]",
      "text/plain": [
       "<Figure size 1440x1080 with 2 Axes>"
      ]
     },
     "metadata": {
      "needs_background": "light"
     },
     "output_type": "display_data"
    }
   ],
   "source": [
    "filename = dataset.iloc[796]['path']\n",
    "wf, sr = librosa.load(filename, res_type='kaiser_fast')\n",
    "mfcc = librosa.feature.mfcc(y=wf, sr=sr)\n",
    "\n",
    "plt.figure(figsize=(20, 15))\n",
    "plt.subplot(3,1,1)\n",
    "librosa.display.waveplot(wf, sr=sr)\n",
    "\n",
    "plt.figure(figsize=(20, 15))\n",
    "plt.subplot(3, 1, 1)\n",
    "librosa.display.specshow(mfcc, x_axis='time')\n",
    "plt.ylabel('MFCC')\n",
    "plt.xlabel('time')\n",
    "plt.colorbar()\n",
    "print(dataset.iloc[796]['labels'])\n",
    "\n",
    "\n",
    "ipd.Audio(filename)\n",
    "print(wf.shape)\n",
    "print(mfcc.shape)\n",
    "\n",
    "\n",
    "\n",
    "filename = dataset.iloc[486]['path']\n",
    "wf, sr = librosa.load(filename, res_type='kaiser_fast')\n",
    "mfcc = librosa.feature.mfcc(y=wf, sr=sr)\n",
    "\n",
    "plt.figure(figsize=(20, 15))\n",
    "plt.subplot(3,1,1)\n",
    "librosa.display.waveplot(wf, sr=sr)\n",
    "\n",
    "plt.figure(figsize=(20, 15))\n",
    "plt.subplot(3, 1, 1)\n",
    "librosa.display.specshow(mfcc, x_axis='time')\n",
    "plt.ylabel('MFCC')\n",
    "plt.xlabel('time')\n",
    "plt.colorbar()\n",
    "print(dataset.iloc[486]['labels'])\n",
    "\n",
    "print(wf.shape)\n",
    "print(mfcc.shape)"
   ]
  },
  {
   "cell_type": "code",
   "execution_count": 8,
   "metadata": {},
   "outputs": [],
   "source": [
    "mfcc_list = list()\n",
    "\n",
    "for filename in dataset['path']:\n",
    "    wf, sr = librosa.load(filename, res_type='kaiser_fast')\n",
    "    mfcc = librosa.feature.mfcc(y=wf, sr=sr)\n",
    "    mfcc_list.append(mfcc)\n",
    "#     for i in mfcc:\n",
    "#         empty_mean_mfcc.append(np.array(np.mean(i)))\n",
    "        \n"
   ]
  },
  {
   "cell_type": "code",
   "execution_count": 36,
   "metadata": {},
   "outputs": [
    {
     "data": {
      "text/plain": [
       "array([-470.6492  , -469.76654 , -467.8643  , -469.6876  , -473.10043 ,\n",
       "       -478.27783 , -477.29285 , -476.92743 , -482.61682 , -489.83795 ,\n",
       "       -493.37125 , -496.34277 , -500.04895 , -501.34998 , -502.9581  ,\n",
       "       -504.05664 , -506.61118 , -504.79715 , -502.81427 , -503.35178 ,\n",
       "       -503.75677 , -489.76785 , -423.53873 , -368.6414  , -317.74023 ,\n",
       "       -250.93797 , -184.87946 , -175.14363 , -182.31223 , -190.2674  ,\n",
       "       -215.52113 , -209.21176 , -195.42654 , -160.80328 , -106.403015,\n",
       "        -86.65125 ,  -99.18806 , -133.6018  , -217.89795 , -292.42093 ,\n",
       "       -282.4388  , -277.19342 , -232.59329 , -182.78438 , -170.29846 ,\n",
       "       -189.3544  , -257.01984 , -409.7839  , -467.7701  , -336.384   ,\n",
       "       -195.12645 , -161.56271 , -180.80157 , -188.28351 , -203.42435 ,\n",
       "       -191.86687 , -203.24098 , -259.59122 , -348.07715 , -418.3559  ,\n",
       "       -423.40616 , -328.03604 , -285.9926  , -307.19678 , -356.0165  ,\n",
       "       -385.50912 , -399.91153 , -373.33957 , -249.57065 , -205.9694  ,\n",
       "       -245.54956 , -299.47183 , -287.7393  , -285.51385 , -348.1463  ,\n",
       "       -380.7616  , -295.54843 , -264.11932 , -248.36337 , -264.75922 ,\n",
       "       -310.84726 , -340.1403  , -342.0973  , -374.07867 , -411.69867 ,\n",
       "       -423.5116  , -374.37125 , -313.62555 , -270.33292 , -257.0802  ,\n",
       "       -274.4215  , -275.98148 , -255.16307 , -281.937   , -329.5219  ,\n",
       "       -365.3122  , -366.449   , -346.99548 , -346.6531  , -352.57785 ,\n",
       "       -324.63705 , -344.54453 , -404.3721  , -408.68726 , -372.92075 ,\n",
       "       -329.65564 , -288.02637 , -253.37408 , -226.57399 , -216.41725 ,\n",
       "       -221.14604 , -225.6294  , -254.74013 , -296.9243  , -319.16443 ,\n",
       "       -366.4625  , -430.7745  , -456.61658 , -387.91003 , -349.51022 ,\n",
       "       -330.73154 , -320.06052 , -314.0806  , -321.6158  , -342.66452 ,\n",
       "       -372.26382 , -419.42194 , -425.7702  , -387.68234 , -338.64017 ,\n",
       "       -321.6789  , -303.55234 , -310.64713 , -334.01196 , -352.38107 ,\n",
       "       -344.72714 , -325.32013 , -318.64636 , -317.71518 , -315.39615 ,\n",
       "       -282.1471  , -246.65578 , -216.39928 , -195.73804 , -207.28377 ,\n",
       "       -247.73909 , -312.55634 , -367.68835 , -395.4026  , -403.5081  ,\n",
       "       -397.60742 , -337.24487 , -257.7042  , -210.18279 , -192.54883 ,\n",
       "       -185.54962 , -214.37216 , -227.78493 , -223.04668 , -182.85414 ,\n",
       "       -160.39395 , -193.43317 , -265.41956 , -305.96042 , -338.6531  ,\n",
       "       -371.02576 , -401.101   , -432.21365 , -448.57327 , -467.42407 ,\n",
       "       -484.18286 , -499.38324 , -510.82272 , -518.61224 , -519.796   ,\n",
       "       -521.3859  , -521.71277 , -515.28064 , -510.67712 , -508.0175  ,\n",
       "       -507.1373  , -509.41483 , -509.20544 , -506.88153 , -506.91974 ,\n",
       "       -505.65912 , -502.4776  , -497.806   , -499.7654  , -501.6721  ,\n",
       "       -499.8153  , -499.78198 , -499.54874 , -500.44873 , -503.70654 ],\n",
       "      dtype=float32)"
      ]
     },
     "execution_count": 36,
     "metadata": {},
     "output_type": "execute_result"
    }
   ],
   "source": [
    "mfcc_list[0][0]"
   ]
  },
  {
   "cell_type": "code",
   "execution_count": 159,
   "metadata": {},
   "outputs": [],
   "source": [
    "mean_list = list()\n",
    "for i in mfcc_list:\n",
    "    mean_item = list()\n",
    "    for x in i: \n",
    "        mean_item.append(np.mean(x))\n",
    "    mean_list.append(mean_item)\n",
    "\n",
    "from torch.utils.data import Dataset, DataLoader\n",
    "from torchvision import transforms, utils\n",
    "from torch import optim as optim, functional as F\n",
    "import torch\n",
    "import torchvision\n",
    "import torch.nn as nn\n",
    "import torchvision.transforms as transforms\n",
    "import numpy as np\n",
    "import matplotlib.pyplot as plt\n",
    "\n",
    "\n",
    "for counter, i in enumerate(mean_list):\n",
    "    for count, x in enumerate(i):\n",
    "        mean = np.mean(i, axis=0)\n",
    "        std = np.std(i, axis=0)\n",
    "        x = (x - mean)/std\n",
    "        mean_list[counter][count] = x\n",
    "    "
   ]
  },
  {
   "cell_type": "code",
   "execution_count": 160,
   "metadata": {},
   "outputs": [
    {
     "data": {
      "text/html": [
       "<div>\n",
       "<style scoped>\n",
       "    .dataframe tbody tr th:only-of-type {\n",
       "        vertical-align: middle;\n",
       "    }\n",
       "\n",
       "    .dataframe tbody tr th {\n",
       "        vertical-align: top;\n",
       "    }\n",
       "\n",
       "    .dataframe thead th {\n",
       "        text-align: right;\n",
       "    }\n",
       "</style>\n",
       "<table border=\"1\" class=\"dataframe\">\n",
       "  <thead>\n",
       "    <tr style=\"text-align: right;\">\n",
       "      <th></th>\n",
       "      <th>labels</th>\n",
       "      <th>source</th>\n",
       "      <th>path</th>\n",
       "      <th>mfcc</th>\n",
       "    </tr>\n",
       "  </thead>\n",
       "  <tbody>\n",
       "    <tr>\n",
       "      <th>0</th>\n",
       "      <td>male_sad</td>\n",
       "      <td>SAVEE</td>\n",
       "      <td>/Users/devpatelio/Downloads/Coding/Python/pyTo...</td>\n",
       "      <td>[-4.114038, 3.7823222, 1.1287005, 4.0110393, -...</td>\n",
       "    </tr>\n",
       "    <tr>\n",
       "      <th>1</th>\n",
       "      <td>male_sad</td>\n",
       "      <td>SAVEE</td>\n",
       "      <td>/Users/devpatelio/Downloads/Coding/Python/pyTo...</td>\n",
       "      <td>[-4.1411643, 3.8706841, 1.5510163, 3.9606035, ...</td>\n",
       "    </tr>\n",
       "    <tr>\n",
       "      <th>2</th>\n",
       "      <td>male_neutral</td>\n",
       "      <td>SAVEE</td>\n",
       "      <td>/Users/devpatelio/Downloads/Coding/Python/pyTo...</td>\n",
       "      <td>[-4.167561, 4.1050615, 2.2902808, 2.985493, 2....</td>\n",
       "    </tr>\n",
       "    <tr>\n",
       "      <th>3</th>\n",
       "      <td>male_surprise</td>\n",
       "      <td>SAVEE</td>\n",
       "      <td>/Users/devpatelio/Downloads/Coding/Python/pyTo...</td>\n",
       "      <td>[-4.1753445, 3.8015928, 1.3041954, 3.1588714, ...</td>\n",
       "    </tr>\n",
       "    <tr>\n",
       "      <th>4</th>\n",
       "      <td>male_neutral</td>\n",
       "      <td>SAVEE</td>\n",
       "      <td>/Users/devpatelio/Downloads/Coding/Python/pyTo...</td>\n",
       "      <td>[-4.122096, 4.0821314, 1.4939915, 2.7916214, 3...</td>\n",
       "    </tr>\n",
       "  </tbody>\n",
       "</table>\n",
       "</div>"
      ],
      "text/plain": [
       "          labels source                                               path  \\\n",
       "0       male_sad  SAVEE  /Users/devpatelio/Downloads/Coding/Python/pyTo...   \n",
       "1       male_sad  SAVEE  /Users/devpatelio/Downloads/Coding/Python/pyTo...   \n",
       "2   male_neutral  SAVEE  /Users/devpatelio/Downloads/Coding/Python/pyTo...   \n",
       "3  male_surprise  SAVEE  /Users/devpatelio/Downloads/Coding/Python/pyTo...   \n",
       "4   male_neutral  SAVEE  /Users/devpatelio/Downloads/Coding/Python/pyTo...   \n",
       "\n",
       "                                                mfcc  \n",
       "0  [-4.114038, 3.7823222, 1.1287005, 4.0110393, -...  \n",
       "1  [-4.1411643, 3.8706841, 1.5510163, 3.9606035, ...  \n",
       "2  [-4.167561, 4.1050615, 2.2902808, 2.985493, 2....  \n",
       "3  [-4.1753445, 3.8015928, 1.3041954, 3.1588714, ...  \n",
       "4  [-4.122096, 4.0821314, 1.4939915, 2.7916214, 3...  "
      ]
     },
     "execution_count": 160,
     "metadata": {},
     "output_type": "execute_result"
    }
   ],
   "source": [
    "dataset['mfcc'] = mean_list\n",
    "dataset.head()"
   ]
  },
  {
   "cell_type": "code",
   "execution_count": 162,
   "metadata": {},
   "outputs": [],
   "source": [
    "dataset.to_csv('processed_dataset.csv', index=0)"
   ]
  },
  {
   "cell_type": "code",
   "execution_count": 163,
   "metadata": {},
   "outputs": [],
   "source": [
    "labels = []\n"
   ]
  },
  {
   "cell_type": "code",
   "execution_count": 164,
   "metadata": {},
   "outputs": [],
   "source": [
    "from torch.utils.data import Dataset, DataLoader\n",
    "from torchvision import transforms, utils\n",
    "from torch import optim as optim, functional as F\n",
    "import torch\n",
    "import torchvision\n",
    "import torch.nn as nn\n",
    "import torchvision.transforms as transforms\n",
    "import numpy as np\n",
    "import matplotlib.pyplot as plt\n",
    "\n",
    "transforms = transforms.Compose([transforms.ToTensor(), transforms.Normalize((0.5, 0.5, 0.5), (0.5, 0.5, 0.5))])\n",
    "train_size = int(0.8 * len(dataset))\n",
    "test_size = len(dataset) - train_size\n",
    "\n",
    "label_column = dataset['labels']\n",
    "labels = (label_column.unique())\n",
    "one_hot_template = torch.zeros(len(labels), len(labels))\n",
    "\n",
    "for i in range(0, len(labels)):\n",
    "    one_hot_template[i][i] = 1\n",
    "\n",
    "label_encoder_dict = {labels[i]: one_hot_template[i] for i in range(0, len(labels))}\n",
    "dataset_np = np.array(dataset['mfcc'])\n",
    "labels_np = np.array(dataset['labels'])\n",
    "\n",
    "\n",
    "        \n",
    "\n",
    "combined = []\n",
    "for counter, x in enumerate(labels_np):\n",
    "    x = label_encoder_dict[str(x)]\n",
    "    combined.append(  [dataset_np[counter], x]  )"
   ]
  },
  {
   "cell_type": "code",
   "execution_count": 165,
   "metadata": {},
   "outputs": [],
   "source": [
    "\n",
    "for counter, i in enumerate(combined):\n",
    "    combined[counter][0] = torch.FloatTensor(combined[counter][0])"
   ]
  },
  {
   "cell_type": "code",
   "execution_count": 166,
   "metadata": {},
   "outputs": [],
   "source": [
    "import matplotlib.pyplot as plt\n",
    "\n",
    "categories = labels\n",
    "count = []\n",
    "\n",
    "for i in categories:\n",
    "    count.append(dataset.loc[dataset['labels'] == i, 'labels'].count())"
   ]
  },
  {
   "cell_type": "code",
   "execution_count": 167,
   "metadata": {},
   "outputs": [
    {
     "data": {
      "text/plain": [
       "<BarContainer object of 20 artists>"
      ]
     },
     "execution_count": 167,
     "metadata": {},
     "output_type": "execute_result"
    },
    {
     "data": {
      "image/png": "[encoded data removed]",
      "text/plain": [
       "<Figure size 2160x720 with 1 Axes>"
      ]
     },
     "metadata": {
      "needs_background": "light"
     },
     "output_type": "display_data"
    }
   ],
   "source": [
    "plt.figure(figsize=(30, 10))\n",
    "plt.bar(categories, count)"
   ]
  },
  {
   "cell_type": "code",
   "execution_count": 168,
   "metadata": {},
   "outputs": [],
   "source": [
    "np.random.shuffle(combined)\n",
    "train_index = int(len(combined)*0.8)\n",
    "train_set_np = combined[:train_index]\n",
    "test_set_np = combined[train_index:-1]\n",
    "\n",
    "from torchvision import datasets, transforms\n",
    "import torch\n",
    "import torch.nn as nn\n",
    "import torch.nn.functional as F\n",
    "from torch.utils.data import DataLoader, Dataset, TensorDataset\n",
    "from torch.optim import *\n",
    "import torchvision\n",
    "import torchvision.transforms as transforms\n",
    "\n",
    "trainloader = torch.utils.data.DataLoader(train_set_np, shuffle=False, batch_size = 20)\n",
    "testloader = torch.utils.data.DataLoader(test_set_np, shuffle=False, batch_size = 20)\n",
    "\n",
    "train = iter(trainloader)\n",
    "mfcc_data, label = next(train)\n"
   ]
  },
  {
   "cell_type": "code",
   "execution_count": 170,
   "metadata": {},
   "outputs": [
    {
     "name": "stdout",
     "output_type": "stream",
     "text": [
      "tensor([-4.0772,  3.9002, -0.4567,  3.6741, -1.7286,  3.0332, -1.5676,  1.3398,\n",
      "        -0.6096, -0.3958,  1.3196, -2.7677,  2.0697, -2.6575,  0.9647, -1.2670,\n",
      "         0.0484,  0.2266, -2.6358,  0.6633])\n"
     ]
    }
   ],
   "source": [
    "print(mfcc_data[1])"
   ]
  },
  {
   "cell_type": "code",
   "execution_count": 201,
   "metadata": {},
   "outputs": [],
   "source": [
    "class Net(nn.Module):\n",
    "    def __init__ (self):\n",
    "        super(Net, self).__init__() \n",
    "        self.fc1 = nn.Linear(20, 300)\n",
    "        self.fc2 = nn.Linear(300, 700)\n",
    "        self.fc3 = nn.Linear(700, 500)\n",
    "        self.fc4 = nn.Linear(500, 200)\n",
    "        self.fc5 = nn.Linear(200, 100)\n",
    "        self.output = nn.Linear(100, 20)\n",
    "        self.softmax = nn.Softmax(dim=1)\n",
    "        \n",
    "    def forward(self, x):\n",
    "        x = F.relu(self.fc1(x))\n",
    "        x = F.relu(self.fc2(x))\n",
    "        x = F.relu(self.fc3(x))\n",
    "        x = F.relu(self.fc4(x))\n",
    "        x = F.relu(self.fc5(x))\n",
    "        x = self.output(x)\n",
    "        x = self.softmax(x)\n",
    "        return x\n",
    "net = Net()   "
   ]
  },
  {
   "cell_type": "code",
   "execution_count": 213,
   "metadata": {},
   "outputs": [
    {
     "name": "stdout",
     "output_type": "stream",
     "text": [
      "Epoch: 0 Training loss: 3.6784493160812417\n",
      "Epoch: 1 Training loss: 3.6322687813080847\n",
      "Epoch: 2 Training loss: 3.588265367601707\n",
      "Epoch: 3 Training loss: 3.5475678005750524\n",
      "Epoch: 4 Training loss: 3.5060635565168923\n",
      "Epoch: 5 Training loss: 3.46740484664042\n",
      "Epoch: 6 Training loss: 3.4269792705890723\n",
      "Epoch: 7 Training loss: 3.3886171571721206\n",
      "Epoch: 8 Training loss: 3.3512789915694157\n",
      "Epoch: 9 Training loss: 3.317128048882296\n",
      "Epoch: 10 Training loss: 3.2789640613154916\n",
      "Epoch: 11 Training loss: 3.2441964685858693\n",
      "Epoch: 12 Training loss: 3.2115671977444435\n",
      "Epoch: 13 Training loss: 3.178931108006509\n",
      "Epoch: 14 Training loss: 3.149249134465208\n",
      "Epoch: 15 Training loss: 3.1193462093579\n",
      "Epoch: 16 Training loss: 3.088449046801543\n",
      "Epoch: 17 Training loss: 3.0564801299769897\n",
      "Epoch: 18 Training loss: 3.0277212741166295\n",
      "Epoch: 19 Training loss: 2.99670975294066\n",
      "Epoch: 20 Training loss: 2.97028433045125\n",
      "Epoch: 21 Training loss: 2.9402579480811255\n",
      "Epoch: 22 Training loss: 2.9183152941022854\n",
      "Epoch: 23 Training loss: 2.8907331291666196\n",
      "Epoch: 24 Training loss: 2.866245596393128\n",
      "Epoch: 25 Training loss: 2.8450550244579063\n",
      "Epoch: 26 Training loss: 2.8198020412273763\n",
      "Epoch: 27 Training loss: 2.7953484706295058\n",
      "Epoch: 28 Training loss: 2.764929552537069\n",
      "Epoch: 29 Training loss: 2.7396706630288463\n",
      "Epoch: 30 Training loss: 2.7082247243288293\n",
      "Epoch: 31 Training loss: 2.6797043904389284\n",
      "Epoch: 32 Training loss: 2.658400957865524\n",
      "Epoch: 33 Training loss: 2.63794723177125\n",
      "Epoch: 34 Training loss: 2.6160284931847855\n",
      "Epoch: 35 Training loss: 2.596074835930267\n",
      "Epoch: 36 Training loss: 2.5773601977671206\n",
      "Epoch: 37 Training loss: 2.561361939398921\n",
      "Epoch: 38 Training loss: 2.5375284659057797\n",
      "Epoch: 39 Training loss: 2.5199775645669433\n",
      "Epoch: 40 Training loss: 2.499200822570856\n",
      "Epoch: 41 Training loss: 2.485133414869779\n",
      "Epoch: 42 Training loss: 2.469039776624413\n",
      "Epoch: 43 Training loss: 2.4519791150123638\n",
      "Epoch: 44 Training loss: 2.433222567298799\n",
      "Epoch: 45 Training loss: 2.4182726632789127\n",
      "Epoch: 46 Training loss: 2.404691637304495\n",
      "Epoch: 47 Training loss: 2.3884841269064054\n",
      "Epoch: 48 Training loss: 2.3786646654971264\n",
      "Epoch: 49 Training loss: 2.364639588220598\n",
      "Finished Training\n"
     ]
    }
   ],
   "source": [
    "import torch.optim as optim\n",
    "optimizer = optim.SGD(net.parameters(), lr=0.01, momentum=0.9)\n",
    "criterion = nn.MSELoss()\n",
    "\n",
    "epochs = 50\n",
    "for epoch in range(0, epochs):\n",
    "    running_loss = 0.0\n",
    "    for i, data in enumerate(trainloader, 0):\n",
    "        inputs, labels = data\n",
    "        optimizer.zero_grad()\n",
    "        outputs = net(inputs)\n",
    "        labels = labels.type(torch.FloatTensor)\n",
    "        loss = criterion(outputs, labels)\n",
    "        loss.backward()\n",
    "        optimizer.step()\n",
    "\n",
    "        running_loss += loss.item()\n",
    "        \n",
    "    print(f\"Epoch: {epoch} Training loss: {running_loss/1}\")  \n",
    "\n",
    "\n",
    "print('Finished Training')\n"
   ]
  },
  {
   "cell_type": "code",
   "execution_count": 215,
   "metadata": {},
   "outputs": [
    {
     "name": "stdout",
     "output_type": "stream",
     "text": [
      "32.78688524590164 %\n"
     ]
    }
   ],
   "source": [
    "correct_count, all_count = 0, 0\n",
    "output_probabilities = []\n",
    "\n",
    "for i, data in enumerate(testloader, 0):\n",
    "    inputs, labels = iter(data)\n",
    "    with torch.no_grad():\n",
    "        probs = net(inputs.float())\n",
    "    ps = torch.exp(probs)\n",
    "    ps = ps.tolist()\n",
    "    labels = labels.tolist()\n",
    "    output_probabilities.append(ps)\n",
    "    m_pred = max(ps)\n",
    "    m_true = max(labels)\n",
    "    if (ps.index(m_pred) == labels.index(m_true)):\n",
    "        correct_count += 1\n",
    "    all_count += 1\n",
    "    \n",
    "print(correct_count/all_count * 100, '%')"
   ]
  },
  {
   "cell_type": "code",
   "execution_count": 207,
   "metadata": {},
   "outputs": [
    {
     "data": {
      "text/plain": [
       "3"
      ]
     },
     "execution_count": 207,
     "metadata": {},
     "output_type": "execute_result"
    }
   ],
   "source": []
  },
  {
   "cell_type": "code",
   "execution_count": null,
   "metadata": {},
   "outputs": [],
   "source": []
  }
 ],
 "metadata": {
  "kernelspec": {
   "display_name": "Python 3",
   "language": "python",
   "name": "python3"
  },
  "language_info": {
   "codemirror_mode": {
    "name": "ipython",
    "version": 3
   },
   "file_extension": ".py",
   "mimetype": "text/x-python",
   "name": "python",
   "nbconvert_exporter": "python",
   "pygments_lexer": "ipython3",
   "version": "3.8.3"
  }
 },
 "nbformat": 4,
 "nbformat_minor": 4
}
